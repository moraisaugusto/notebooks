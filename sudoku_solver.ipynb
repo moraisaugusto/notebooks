{
 "cells": [
  {
   "cell_type": "markdown",
   "id": "cedd44d0-29cb-4c55-a473-fe0894738ac9",
   "metadata": {},
   "source": [
    "# Sudoku Solver using Integer Programming"
   ]
  },
  {
   "cell_type": "code",
   "execution_count": 1,
   "id": "f03dd26b-07e0-4594-aec6-d457036802f2",
   "metadata": {},
   "outputs": [
    {
     "name": "stdout",
     "output_type": "stream",
     "text": [
      "[8, 6, 1, 4, 5, 9, 7, 2, 3]\n",
      "[4, 5, 2, 3, 1, 7, 6, 9, 8]\n",
      "[7, 9, 3, 6, 8, 2, 5, 1, 4]\n",
      "[2, 1, 6, 8, 3, 5, 4, 7, 9]\n",
      "[9, 8, 4, 2, 7, 6, 1, 3, 5]\n",
      "[3, 7, 5, 1, 9, 4, 8, 6, 2]\n",
      "[5, 4, 7, 9, 2, 1, 3, 8, 6]\n",
      "[1, 3, 9, 5, 6, 8, 2, 4, 7]\n",
      "[6, 2, 8, 7, 4, 3, 9, 5, 1]\n"
     ]
    }
   ],
   "source": [
    "#!/usr/bin/env python3\n",
    "# Copyright 2010-2021 Google LLC\n",
    "# Licensed under the Apache License, Version 2.0 (the \"License\");\n",
    "# you may not use this file except in compliance with the License.\n",
    "# You may obtain a copy of the License at\n",
    "#\n",
    "#     http://www.apache.org/licenses/LICENSE-2.0\n",
    "#\n",
    "# Unless required by applicable law or agreed to in writing, software\n",
    "# distributed under the License is distributed on an \"AS IS\" BASIS,\n",
    "# WITHOUT WARRANTIES OR CONDITIONS OF ANY KIND, either express or implied.\n",
    "# See the License for the specific language governing permissions and\n",
    "# limitations under the License.\n",
    "\"\"\"This model implements a sudoku solver.\"\"\"\n",
    "\n",
    "from ortools.sat.python import cp_model\n",
    "\n",
    "\n",
    "def solve_sudoku():\n",
    "    \"\"\"Solves the sudoku problem with the CP-SAT solver.\"\"\"\n",
    "    # Create the model.\n",
    "    model = cp_model.CpModel()\n",
    "\n",
    "    cell_size = 3\n",
    "    line_size = cell_size**2\n",
    "    line = list(range(0, line_size))\n",
    "    cell = list(range(0, cell_size))\n",
    "\n",
    "    initial_grid = [[0, 6, 0, 0, 5, 0, 0, 2, 0], [0, 0, 0, 3, 0, 0, 0, 9, 0],\n",
    "                    [7, 0, 0, 6, 0, 0, 0, 1, 0], [0, 0, 6, 0, 3, 0, 4, 0, 0],\n",
    "                    [0, 0, 4, 0, 7, 0, 1, 0, 0], [0, 0, 5, 0, 9, 0, 8, 0, 0],\n",
    "                    [0, 4, 0, 0, 0, 1, 0, 0, 6], [0, 3, 0, 0, 0, 8, 0, 0, 0],\n",
    "                    [0, 2, 0, 0, 4, 0, 0, 5, 0]]\n",
    "\n",
    "    grid = {}\n",
    "    for i in line:\n",
    "        for j in line:\n",
    "            grid[(i, j)] = model.NewIntVar(1, line_size, 'grid %i %i' % (i, j))\n",
    "\n",
    "    # AllDifferent on rows.\n",
    "    for i in line:\n",
    "        model.AddAllDifferent(grid[(i, j)] for j in line)\n",
    "\n",
    "    # AllDifferent on columns.\n",
    "    for j in line:\n",
    "        model.AddAllDifferent(grid[(i, j)] for i in line)\n",
    "\n",
    "    # AllDifferent on cells.\n",
    "    for i in cell:\n",
    "        for j in cell:\n",
    "            one_cell = []\n",
    "            for di in cell:\n",
    "                for dj in cell:\n",
    "                    one_cell.append(grid[(i * cell_size + di,\n",
    "                                          j * cell_size + dj)])\n",
    "\n",
    "            model.AddAllDifferent(one_cell)\n",
    "\n",
    "    # Initial values.\n",
    "    for i in line:\n",
    "        for j in line:\n",
    "            if initial_grid[i][j]:\n",
    "                model.Add(grid[(i, j)] == initial_grid[i][j])\n",
    "\n",
    "    # Solve and print out the solution.\n",
    "    solver = cp_model.CpSolver()\n",
    "    status = solver.Solve(model)\n",
    "    if status == cp_model.OPTIMAL:\n",
    "        for i in line:\n",
    "            print([int(solver.Value(grid[(i, j)])) for j in line])\n",
    "\n",
    "\n",
    "solve_sudoku()\n"
   ]
  },
  {
   "cell_type": "code",
   "execution_count": null,
   "id": "11ecac8d-f365-419a-a85a-3347a99d6eef",
   "metadata": {},
   "outputs": [],
   "source": []
  }
 ],
 "metadata": {
  "kernelspec": {
   "display_name": "Python 3 (ipykernel)",
   "language": "python",
   "name": "python3"
  },
  "language_info": {
   "codemirror_mode": {
    "name": "ipython",
    "version": 3
   },
   "file_extension": ".py",
   "mimetype": "text/x-python",
   "name": "python",
   "nbconvert_exporter": "python",
   "pygments_lexer": "ipython3",
   "version": "3.10.5"
  }
 },
 "nbformat": 4,
 "nbformat_minor": 5
}
